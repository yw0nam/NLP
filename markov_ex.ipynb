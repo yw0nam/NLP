{
 "cells": [
  {
   "cell_type": "code",
   "execution_count": 1,
   "metadata": {},
   "outputs": [],
   "source": [
    "import codecs\n",
    "from bs4 import BeautifulSoup\n",
    "from konlpy.tag import Twitter\n",
    "import urllib.request\n",
    "import os, re, json, random"
   ]
  },
  {
   "cell_type": "code",
   "execution_count": 2,
   "metadata": {},
   "outputs": [],
   "source": [
    "# 마르코프 체인 딕셔너리 만들기 --- (※1)\n",
    "def make_dic(words):\n",
    "    tmp = [\"@\"]\n",
    "    dic = {}\n",
    "    for word in words:\n",
    "        tmp.append(word)\n",
    "        if len(tmp) < 3: continue\n",
    "        if len(tmp) > 3: tmp = tmp[1:]\n",
    "        set_word3(dic, tmp)\n",
    "        if word == \".\":\n",
    "            tmp = [\"@\"]\n",
    "            continue\n",
    "    return dic"
   ]
  },
  {
   "cell_type": "code",
   "execution_count": 3,
   "metadata": {},
   "outputs": [],
   "source": [
    "# 딕셔너리에 데이터 등록하기 --- (※2)\n",
    "def set_word3(dic, s3):\n",
    "    w1, w2, w3 = s3\n",
    "    if not w1 in dic: dic[w1] = {}\n",
    "    if not w2 in dic[w1]: dic[w1][w2] = {}\n",
    "    if not w3 in dic[w1][w2]: dic[w1][w2][w3] = 0\n",
    "    dic[w1][w2][w3] += 1"
   ]
  },
  {
   "cell_type": "code",
   "execution_count": 4,
   "metadata": {},
   "outputs": [],
   "source": [
    "# 문장 만들기 --- (※3)\n",
    "def make_sentence(dic):\n",
    "    ret = []\n",
    "    if not \"@\" in dic: return \"no dic\" \n",
    "    top = dic[\"@\"]\n",
    "    w1 = word_choice(top)\n",
    "    w2 = word_choice(top[w1])\n",
    "    ret.append(w1)\n",
    "    ret.append(w2)\n",
    "    while True:\n",
    "        w3 = word_choice(dic[w1][w2])\n",
    "        ret.append(w3)\n",
    "        if w3 == \".\": break\n",
    "        w1, w2 = w2, w3\n",
    "    ret = \"\".join(ret)\n",
    "    # 띄어쓰기\n",
    "    \"\"\"\n",
    "    params = urllib.parse.urlencode({\n",
    "        \"_callback\": \"\",\n",
    "        \"q\": ret\n",
    "    })\n",
    "    # 네이버 맞춤법 검사기를 사용합니다.\n",
    "    data = urllib.request.urlopen(\"https://search.naver.com/p/csearch/dcontent/spellchecker.nhn?\" \n",
    "                + params)\n",
    "    data = data.read().decode(\"utf-8\")[1:-2]\n",
    "    data = json.loads(data)\n",
    "    data = data[\"message\"][\"result\"][\"html\"]\n",
    "    data = soup = BeautifulSoup(data, \"html.parser\").getText()\n",
    "    # 리턴\n",
    "    \"\"\"\n",
    "    return ret"
   ]
  },
  {
   "cell_type": "code",
   "execution_count": 5,
   "metadata": {},
   "outputs": [],
   "source": [
    "def word_choice(sel):\n",
    "    keys = sel.keys()\n",
    "    return random.choice(list(keys))"
   ]
  },
  {
   "cell_type": "code",
   "execution_count": null,
   "metadata": {},
   "outputs": [],
   "source": [
    "# 문장 읽어 들이기 --- (※4)\n",
    "toji_file = \"toji.txt\"\n",
    "dict_file = \"markov-toji.json\"\n",
    "if not os.path.exists(dict_file):\n",
    "    # 토지 텍스트 파일 읽어 들이기\n",
    "    fp = codecs.open(\"BEXX0003.txt\", \"r\", encoding=\"utf-16\")\n",
    "    soup = BeautifulSoup(fp, \"html.parser\")\n",
    "    body = soup.select_one(\"body > text\")\n",
    "    text = body.getText()\n",
    "    text = text.replace(\"…\", \"\") \n",
    "    # 형태소 분석\n",
    "    twitter = Twitter()\n",
    "    malist = twitter.pos(text, norm=True)\n",
    "    words = []\n",
    "    for word in malist:\n",
    "        # 구두점 등은 대상에서 제외(단 마침표는 포함)\n",
    "        if not word[1] in [\"Punctuation\"]:\n",
    "            words.append(word[0])\n",
    "        if word[0] == \".\":\n",
    "            words.append(word[0])\n",
    "    # 딕셔너리 생성\n",
    "    dic = make_dic(words)\n",
    "    json.dump(dic, open(dict_file,\"w\", encoding=\"utf-8\"))\n",
    "else:\n",
    "    dic = json.load(open(dict_file,\"r\"))\n",
    "# 문장 만들기 --- (※6)\n",
    "for i in range(3):\n",
    "    s = make_sentence(dic)\n",
    "    print(s)\n",
    "    print(\"---\")"
   ]
  }
 ],
 "metadata": {
  "kernelspec": {
   "display_name": "Python 3",
   "language": "python",
   "name": "python3"
  },
  "language_info": {
   "codemirror_mode": {
    "name": "ipython",
    "version": 3
   },
   "file_extension": ".py",
   "mimetype": "text/x-python",
   "name": "python",
   "nbconvert_exporter": "python",
   "pygments_lexer": "ipython3",
   "version": "3.7.3"
  }
 },
 "nbformat": 4,
 "nbformat_minor": 2
}
