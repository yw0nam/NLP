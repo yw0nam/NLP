{
 "cells": [
  {
   "cell_type": "code",
   "execution_count": 1,
   "metadata": {},
   "outputs": [],
   "source": [
    "from nltk.tokenize import LineTokenizer, SpaceTokenizer, TweetTokenizer\n",
    "from nltk import word_tokenize"
   ]
  },
  {
   "cell_type": "code",
   "execution_count": 13,
   "metadata": {},
   "outputs": [
    {
     "name": "stdout",
     "output_type": "stream",
     "text": [
      "Line tokenizer output : ['Good muffins cost $3.88', 'in New York.', 'Please buy me', 'two of them.', 'Thanks.']\n",
      "Length of LineTokenizer : 5\n",
      "Space Tokenizer output : ['\\nGood', 'muffins', 'cost', '$3.88\\nin', 'New', 'York.\\nPlease', 'buy', 'me\\ntwo', 'of', 'them.\\n\\nThanks.\\n']\n",
      "Length of SpaceTokenizer : 10\n",
      "Word Tokenizer output : ['Good', 'muffins', 'cost', '$', '3.88', 'in', 'New', 'York', '.', 'Please', 'buy', 'me', 'two', 'of', 'them', '.', 'Thanks', '.']\n",
      "Length of WordTokenizer : 18\n"
     ]
    }
   ],
   "source": [
    "lTokenizer = LineTokenizer()\n",
    "s = \"\"\"\n",
    "Good muffins cost $3.88\\nin New York.\n",
    "Please buy me\\ntwo of them.\\n\\nThanks.\n",
    "\"\"\"\n",
    "#s = \"\"\"\n",
    "#My name is Maximus Decimus Meridius, commander of the Armies of the North, \n",
    "#General of the Felix Legions and loyal servant to the true emperor, \n",
    "#Marcus Aurelius. \\nFather to a murdered son, husband to a murdered wife. \\nAnd \n",
    "#I will have my vengeance, in this life or the next.\n",
    "#\"\"\"\n",
    "#s = \"My name is Maximus Decimus Meridius, commander of the Armies of the North, General of the Felix Legions and loyal servant to the true emperor, Marcus Aurelius. \\nFather to a murdered son, husband to a murdered wife. \\nAnd I will have my vengeance, in this life or the next.\"\n",
    "print(\"Line tokenizer output :\", lTokenizer.tokenize(s))\n",
    "print(\"Length of LineTokenizer :\", len(lTokenizer.tokenize(s)))\n",
    "sTokenizer = SpaceTokenizer()\n",
    "print(\"Space Tokenizer output :\",sTokenizer.tokenize(s))\n",
    "print(\"Length of SpaceTokenizer :\", len(sTokenizer.tokenize(s)))\n",
    "print(\"Word Tokenizer output :\", word_tokenize(s))\n",
    "print(\"Length of WordTokenizer :\", len(word_tokenize(s)))"
   ]
  },
  {
   "cell_type": "code",
   "execution_count": 17,
   "metadata": {},
   "outputs": [
    {
     "name": "stdout",
     "output_type": "stream",
     "text": [
      "Space Tokenizer output : ['By', '11', \"o'clock\", 'on', 'Sunday,', 'the', 'doctor', 'shall', 'open', 'the', 'dispensary.']\n",
      "Length of SpaceTokenizer =  11\n",
      "Word Tokenizer output : ['By', '11', \"o'clock\", 'on', 'Sunday', ',', 'the', 'doctor', 'shall', 'open', 'the', 'dispensary', '.']\n",
      "Length of WordTokenizer =  13\n"
     ]
    }
   ],
   "source": [
    "rawText = \"By 11 o'clock on Sunday, the doctor shall open the dispensary.\"\n",
    "sTokenizer = SpaceTokenizer()\n",
    "print(\"Space Tokenizer output :\",sTokenizer.tokenize(rawText))\n",
    "print(\"Length of SpaceTokenizer = \",len(sTokenizer.tokenize(rawText)))\n",
    "print(\"Word Tokenizer output :\", word_tokenize(rawText))\n",
    "print(\"Length of WordTokenizer = \", len(word_tokenize(rawText)))"
   ]
  },
  {
   "cell_type": "code",
   "execution_count": 15,
   "metadata": {},
   "outputs": [
    {
     "name": "stdout",
     "output_type": "stream",
     "text": [
      "Tweet Tokenizer output : ['This', 'is', 'a', 'cooool', '#dummysmiley', ':', ':-)', ':-P', '<3']\n"
     ]
    }
   ],
   "source": [
    "tTokenizer = TweetTokenizer()\n",
    "print(\"Tweet Tokenizer output :\",\n",
    "      tTokenizer.tokenize(\"This is a cooool #dummysmiley: :-) :-P <3\"))"
   ]
  },
  {
   "cell_type": "code",
   "execution_count": null,
   "metadata": {},
   "outputs": [],
   "source": []
  }
 ],
 "metadata": {
  "kernelspec": {
   "display_name": "Python 3",
   "language": "python",
   "name": "python3"
  },
  "language_info": {
   "codemirror_mode": {
    "name": "ipython",
    "version": 3
   },
   "file_extension": ".py",
   "mimetype": "text/x-python",
   "name": "python",
   "nbconvert_exporter": "python",
   "pygments_lexer": "ipython3",
   "version": "3.6.7"
  }
 },
 "nbformat": 4,
 "nbformat_minor": 2
}
