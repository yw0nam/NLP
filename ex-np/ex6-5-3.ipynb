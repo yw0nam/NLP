{
 "cells": [
  {
   "cell_type": "code",
   "execution_count": 1,
   "metadata": {},
   "outputs": [],
   "source": [
    "import nltk\n",
    "from nltk.corpus import conll2000"
   ]
  },
  {
   "cell_type": "code",
   "execution_count": 2,
   "metadata": {},
   "outputs": [],
   "source": [
    "sentence = \"Ravi is the CEO of a Company.\"\n",
    "\n",
    "def myParser():\n",
    "    grammar = '\\n'.join([\n",
    "    'NP: {<DT>*<NNP>}',\n",
    "    'NP: {<JJ>*<NN>}',\n",
    "    'NP: {<NNP>+}',\n",
    "    ])\n",
    "    return nltk.RegexpParser(grammar)"
   ]
  },
  {
   "cell_type": "code",
   "execution_count": 3,
   "metadata": {},
   "outputs": [],
   "source": [
    "def buildIOBTags(text):\n",
    "    chunkparser = myParser()\n",
    "    words = nltk.word_tokenize(text)\n",
    "    postags = nltk.pos_tag(words)\n",
    "    tree = chunkparser.parse(postags)\n",
    "    # This whole thing can be replaced by\n",
    "    # nltk.chunk.tree2conlltags(tree) function\n",
    "    # which returns 3 tuple\n",
    "    return nltk.chunk.tree2conlltags(tree)"
   ]
  },
  {
   "cell_type": "code",
   "execution_count": 4,
   "metadata": {},
   "outputs": [],
   "source": [
    "def test_baseline():\n",
    "    cp = nltk.RegexpParser(\"\")\n",
    "    test_sents = conll2000.chunked_sents('test.txt', chunk_types=['NP'])\n",
    "    # print(len(test_sents[0]))\n",
    "    # print(test_sents[0])\n",
    "    print(cp.evaluate(test_sents))"
   ]
  },
  {
   "cell_type": "code",
   "execution_count": 5,
   "metadata": {},
   "outputs": [],
   "source": [
    "def test_regexp():\n",
    "    grammar = r\"NP: {<[CDJNP].*>+}\"\n",
    "    cp = nltk.RegexpParser(grammar)\n",
    "    test_sents = conll2000.chunked_sents('test.txt', chunk_types=['NP'])\n",
    "    print(cp.evaluate(test_sents))"
   ]
  },
  {
   "cell_type": "code",
   "execution_count": 6,
   "metadata": {},
   "outputs": [],
   "source": [
    "def test_myparser():\n",
    "    parser = myParser()\n",
    "    test_sents = conll2000.chunked_sents('test.txt', chunk_types=['NP'])\n",
    "    print(parser.evaluate(test_sents))"
   ]
  },
  {
   "cell_type": "code",
   "execution_count": 7,
   "metadata": {},
   "outputs": [],
   "source": [
    "class BigramChunker(nltk.ChunkParserI):\n",
    "    def __init__(self, train_sents):\n",
    "        train_data = [[(t,c) for w,t,c in nltk.chunk.tree2conlltags(sent)] for sent in train_sents]\n",
    "        self.tagger = nltk.BigramTagger(train_data)\n",
    "\n",
    "    def parse(self, sentence):\n",
    "        pos_tags = [pos for (word,pos) in sentence]\n",
    "        tagged_pos_tags = self.tagger.tag(pos_tags)\n",
    "        chunktags = [chunktag for (pos, chunktag) in tagged_pos_tags]\n",
    "        conlltags = [(word, pos, chunktag) for ((word,pos),chunktag)\n",
    "                in zip(sentence, chunktags)]\n",
    "        return nltk.chunk.conlltags2tree(conlltags)"
   ]
  },
  {
   "cell_type": "code",
   "execution_count": 8,
   "metadata": {},
   "outputs": [],
   "source": [
    "def test_mychunker():\n",
    "    test_sents = conll2000.chunked_sents('test.txt', chunk_types=['NP'])\n",
    "    train_sents = conll2000.chunked_sents('train.txt', chunk_types=['NP'])\n",
    "    my_chunker = BigramChunker(train_sents)\n",
    "    print(my_chunker.evaluate(test_sents))"
   ]
  },
  {
   "cell_type": "code",
   "execution_count": 12,
   "metadata": {},
   "outputs": [
    {
     "name": "stdout",
     "output_type": "stream",
     "text": [
      "ChunkParse score:\n",
      "    IOB Accuracy:  87.7%%\n",
      "    Precision:     70.6%%\n",
      "    Recall:        67.8%%\n",
      "    F-Measure:     69.2%%\n",
      "ChunkParse score:\n",
      "    IOB Accuracy:  93.3%%\n",
      "    Precision:     82.3%%\n",
      "    Recall:        86.8%%\n",
      "    F-Measure:     84.5%%\n"
     ]
    }
   ],
   "source": [
    "#test_baseline()\n",
    "#test_myparser()\n",
    "test_regexp()\n",
    "test_mychunker()"
   ]
  },
  {
   "cell_type": "code",
   "execution_count": null,
   "metadata": {},
   "outputs": [],
   "source": []
  }
 ],
 "metadata": {
  "kernelspec": {
   "display_name": "Python 3",
   "language": "python",
   "name": "python3"
  },
  "language_info": {
   "codemirror_mode": {
    "name": "ipython",
    "version": 3
   },
   "file_extension": ".py",
   "mimetype": "text/x-python",
   "name": "python",
   "nbconvert_exporter": "python",
   "pygments_lexer": "ipython3",
   "version": "3.6.7"
  }
 },
 "nbformat": 4,
 "nbformat_minor": 2
}
