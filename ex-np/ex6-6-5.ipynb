{
 "cells": [
  {
   "cell_type": "code",
   "execution_count": 2,
   "metadata": {},
   "outputs": [],
   "source": [
    "import nltk\n",
    "import random\n",
    "import feedparser"
   ]
  },
  {
   "cell_type": "code",
   "execution_count": 3,
   "metadata": {},
   "outputs": [],
   "source": [
    "urls = {\n",
    "    'mlb': 'https://sports.yahoo.com/mlb/rss.xml',\n",
    "    'nfl': 'https://sports.yahoo.com/nfl/rss.xml',\n",
    "}"
   ]
  },
  {
   "cell_type": "code",
   "execution_count": 4,
   "metadata": {},
   "outputs": [],
   "source": [
    "feedmap = {}\n",
    "stopwords = nltk.corpus.stopwords.words('english')\n",
    "\n",
    "def featureExtractor(words):\n",
    "    features = {}\n",
    "    for word in words:\n",
    "        if word not in stopwords:\n",
    "            features[\"word({})\".format(word)] = True\n",
    "    return features"
   ]
  },
  {
   "cell_type": "code",
   "execution_count": 11,
   "metadata": {},
   "outputs": [
    {
     "name": "stdout",
     "output_type": "stream",
     "text": [
      "downloading https://sports.yahoo.com/mlb/rss.xml\n",
      "downloading https://sports.yahoo.com/nfl/rss.xml\n"
     ]
    }
   ],
   "source": [
    "sentences = []\n",
    "\n",
    "for category in urls.keys():\n",
    "    feedmap[category] = feedparser.parse(urls[category])\n",
    "    print(\"downloading {}\".format(urls[category]))\n",
    "    for entry in feedmap[category]['entries']:\n",
    "        data = entry['summary']\n",
    "        words = data.split()\n",
    "        sentences.append((category, words))"
   ]
  },
  {
   "cell_type": "code",
   "execution_count": 13,
   "metadata": {},
   "outputs": [],
   "source": [
    "featuresets = [(featureExtractor(words), category) for category, words in sentences]\n",
    "random.shuffle(featuresets)\n",
    "\n",
    "total = len(featuresets)\n",
    "off = int(total/2)\n",
    "trainset = featuresets[off:]\n",
    "testset = featuresets[:off]"
   ]
  },
  {
   "cell_type": "code",
   "execution_count": 14,
   "metadata": {},
   "outputs": [
    {
     "name": "stdout",
     "output_type": "stream",
     "text": [
      "0.8085106382978723\n"
     ]
    }
   ],
   "source": [
    "classifier = nltk.NaiveBayesClassifier.train(trainset)\n",
    "\n",
    "print(nltk.classify.accuracy(classifier, testset))"
   ]
  },
  {
   "cell_type": "code",
   "execution_count": 19,
   "metadata": {},
   "outputs": [
    {
     "name": "stdout",
     "output_type": "stream",
     "text": [
      "Most Informative Features\n",
      "          word(Saturday) = True              mlb : nfl    =      7.3 : 1.0\n",
      "              word(back) = True              nfl : mlb    =      6.1 : 1.0\n",
      "               word(get) = True              mlb : nfl    =      3.1 : 1.0\n",
      "              word(past) = True              mlb : nfl    =      2.4 : 1.0\n",
      "             word(first) = True              mlb : nfl    =      2.4 : 1.0\n",
      "nfl -> Ed Reed's legendary Hall of Fame bust, Champ Bailey's plea for racial understanding and Tony Gonzalez's moving message stood out at Saturday's ceremony.\n",
      "nfl -> All four entered the Pro Football Hall of Fame on Saturday night.  ''Fitting to be in here with Mr. Johnny Robinson and Champ and Ty,'' Reed said.  A six-time All-Pro, Gonzalez helped revolutionize the position, lining up in traditional tight end spots as well as flanked out or in the\n",
      "nfl -> Tony Gonzalez probably could have been a star in the NBA.  Instead, he chose the NFL path, and the most productive tight end in history has entered the Pro Football Hall of Fame.  A six-time All-Pro, Gonzalez helped revolutionize the position, lining up in traditional tight end spots as well as flanked\n",
      "nfl -> Thunderstorms gave the Tennessee Titans a painful flashback to their 2018 season opener in Miami and the longest game since the NFL-AFL merger in 1970 before a night practice at their stadium.  Turns out offering a free concert by country singer Jake Owen followed by fireworks keeps people sticking around\n"
     ]
    }
   ],
   "source": [
    "classifier.show_most_informative_features(5)\n",
    "for (i, entry) in enumerate(feedmap['nfl']['entries']):\n",
    "    if i < 4:\n",
    "        features = featureExtractor(entry['title'].split())\n",
    "        category = classifier.classify(features)\n",
    "        print('{} -> {}'.format(category, entry['summary']))"
   ]
  },
  {
   "cell_type": "code",
   "execution_count": null,
   "metadata": {},
   "outputs": [],
   "source": []
  }
 ],
 "metadata": {
  "kernelspec": {
   "display_name": "Python 3",
   "language": "python",
   "name": "python3"
  },
  "language_info": {
   "codemirror_mode": {
    "name": "ipython",
    "version": 3
   },
   "file_extension": ".py",
   "mimetype": "text/x-python",
   "name": "python",
   "nbconvert_exporter": "python",
   "pygments_lexer": "ipython3",
   "version": "3.6.7"
  }
 },
 "nbformat": 4,
 "nbformat_minor": 2
}
