{
 "cells": [
  {
   "cell_type": "code",
   "execution_count": 1,
   "metadata": {},
   "outputs": [],
   "source": [
    "import nltk"
   ]
  },
  {
   "cell_type": "code",
   "execution_count": 2,
   "metadata": {},
   "outputs": [],
   "source": [
    "def learnDefaultTagger(simpleSentence):\n",
    "    wordsInSentence = nltk.word_tokenize(simpleSentence)\n",
    "    tagger = nltk.DefaultTagger(\"NN\")\n",
    "    posEnabledTags = tagger.tag(wordsInSentence)\n",
    "    print(posEnabledTags)"
   ]
  },
  {
   "cell_type": "code",
   "execution_count": 3,
   "metadata": {},
   "outputs": [],
   "source": [
    "def learnRETagger(simpleSentence):\n",
    "    customPatterns = [\n",
    "        (r'.*ing$', 'ADJECTIVE'),             # running\n",
    "        (r'.*ly$', 'ADVERB'),                 # willingly\n",
    "        (r'.*ion$', 'NOUN'),                  # intimation\n",
    "        (r'(.*ate|.*en|is)$', 'VERB'),        # terminate, darken, lighten\n",
    "        (r'^an$', 'INDEFINITE-ARTICLE'),      # terminate\n",
    "        (r'^(with|on|at)$', 'PREPOSITION'),   # on\n",
    "        (r'^\\-?[0-9]+(\\.[0-9]+)$', 'NUMBER'), # -1.0, 12345.123\n",
    "        (r'.*$', None),\n",
    "    ]\n",
    "    tagger = nltk.RegexpTagger(customPatterns)\n",
    "    wordsInSentence = nltk.word_tokenize(simpleSentence)\n",
    "    posEnabledTags = tagger.tag(wordsInSentence)\n",
    "    print(posEnabledTags)"
   ]
  },
  {
   "cell_type": "code",
   "execution_count": 4,
   "metadata": {},
   "outputs": [],
   "source": [
    "def learnLookupTagger(simpleSentence):\n",
    "    mapping = {\n",
    "        '.': '.', 'place': 'NN', 'on': 'IN',\n",
    "        'earth': 'NN', 'Mysore' : 'NNP', 'is': 'VBZ',\n",
    "        'an': 'DT', 'amazing': 'JJ'\n",
    "    }\n",
    "    tagger = nltk.UnigramTagger(model=mapping)\n",
    "    wordsInSentence = nltk.word_tokenize(simpleSentence)\n",
    "    posEnabledTags = tagger.tag(wordsInSentence)\n",
    "    print(posEnabledTags)"
   ]
  },
  {
   "cell_type": "code",
   "execution_count": 5,
   "metadata": {},
   "outputs": [
    {
     "name": "stdout",
     "output_type": "stream",
     "text": [
      "[('Mysore', 'NN'), ('is', 'NN'), ('an', 'NN'), ('amazing', 'NN'), ('place', 'NN'), ('on', 'NN'), ('earth', 'NN'), ('.', 'NN'), ('I', 'NN'), ('have', 'NN'), ('visited', 'NN'), ('Mysore', 'NN'), ('10', 'NN'), ('times', 'NN'), ('.', 'NN')]\n",
      "[('Mysore', None), ('is', 'VERB'), ('an', 'INDEFINITE-ARTICLE'), ('amazing', 'ADJECTIVE'), ('place', None), ('on', 'PREPOSITION'), ('earth', None), ('.', None), ('I', None), ('have', None), ('visited', None), ('Mysore', None), ('10', None), ('times', None), ('.', None)]\n",
      "[('Mysore', 'NNP'), ('is', 'VBZ'), ('an', 'DT'), ('amazing', 'JJ'), ('place', 'NN'), ('on', 'IN'), ('earth', 'NN'), ('.', '.'), ('I', None), ('have', None), ('visited', None), ('Mysore', 'NNP'), ('10', None), ('times', None), ('.', '.')]\n"
     ]
    }
   ],
   "source": [
    "if __name__ == '__main__':\n",
    "    testSentence = \"Mysore is an amazing place on earth. I have visited Mysore 10 times.\"\n",
    "    learnDefaultTagger(testSentence)\n",
    "    learnRETagger(testSentence)\n",
    "    learnLookupTagger(testSentence)"
   ]
  },
  {
   "cell_type": "code",
   "execution_count": null,
   "metadata": {},
   "outputs": [],
   "source": []
  }
 ],
 "metadata": {
  "kernelspec": {
   "display_name": "Python 3",
   "language": "python",
   "name": "python3"
  },
  "language_info": {
   "codemirror_mode": {
    "name": "ipython",
    "version": 3
   },
   "file_extension": ".py",
   "mimetype": "text/x-python",
   "name": "python",
   "nbconvert_exporter": "python",
   "pygments_lexer": "ipython3",
   "version": "3.6.7"
  }
 },
 "nbformat": 4,
 "nbformat_minor": 2
}
