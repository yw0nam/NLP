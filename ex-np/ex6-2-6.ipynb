{
 "cells": [
  {
   "cell_type": "code",
   "execution_count": 1,
   "metadata": {},
   "outputs": [],
   "source": [
    "story1 = \"\"\"In a far away kingdom, there was a river. This river was home to many golden swans. The swans spent most of their time on the banks of the river. Every six months, the swans would leave a golden feather as a fee for using the lake. The soldiers of the kingdom would collect the feathers and deposit them in the royal treasury. \n",
    "One day, a homeless bird saw the river. \"The water in this river seems so cool and soothing. I will make my home here,\" thought the bird. \n",
    "As soon as the bird settled down near the river, the golden swans noticed her. They came shouting. \"This river belongs to us. We pay a golden feather to the King to use this river. You can not live here.\" \n",
    "\"I am homeless, brothers. I too will pay the rent. Please give me shelter,\" the bird pleaded. \"How will you pay the rent? You do not have golden feathers,\" said the swans laughing. They further added, \"Stop dreaming and leave once.\" The humble bird pleaded many times. But the arrogant swans drove the bird away. \n",
    "\"I will teach them a lesson!\" decided the humiliated bird. \n",
    "She went to the King and said, \"O King! The swans in your river are impolite and unkind. I begged for shelter but they said that they had purchased the river with golden feathers.\" \n",
    "The King was angry with the arrogant swans for having insulted the homeless bird. He ordered his soldiers to bring the arrogant swans to his court. In no time, all the golden swans were brought to the King’s court. \n",
    "\"Do you think the royal treasury depends upon your golden feathers? You can not decide who lives by the river. Leave the river at once or you all will be beheaded!\" shouted the King. \n",
    "The swans shivered with fear on hearing the King. They flew away never to return. The bird built her home near the river and lived there happily forever. The bird gave shelter to all other birds in the river. \"\"\"\n",
    "\n",
    "story2 = \"\"\"Long time ago, there lived a King. He was lazy and liked all the comforts of life. He never carried out his duties as a King. “Our King does not take care of our needs. He also ignores the affairs of his kingdom.\" The people complained. \n",
    "One day, the King went into the forest to hunt. After having wandered for quite sometime, he became thirsty. To his relief, he spotted a lake. As he was drinking water, he suddenly saw a golden swan come out of the lake and perch on a stone. “Oh! A golden swan. I must capture it,\" thought the King. \n",
    "But as soon as he held his bow up, the swan disappeared. And the King heard a voice, “I am the Golden Swan. If you want to capture me, you must come to heaven.\" \n",
    "Surprised, the King said, “Please show me the way to heaven.\" “Do good deeds, serve your people and the messenger from heaven would come to fetch you to heaven,\" replied the voice. \n",
    "The selfish King, eager to capture the Swan, tried doing some good deeds in his Kingdom. “Now, I suppose a messenger will come to take me to heaven,\" he thought. But, no messenger came. \n",
    "The King then disguised himself and went out into the street. There he tried helping an old man. But the old man became angry and said, “You need not try to help. I am in this miserable state because of out selfish King. He has done nothing for his people.\" \n",
    "Suddenly, the King heard the golden swan’s voice, “Do good deeds and you will come to heaven.\" It dawned on the King that by doing selfish acts, he will not go to heaven. \n",
    "He realized that his people needed him and carrying out his duties was the only way to heaven. After that day he became a responsible King. \n",
    "\"\"\""
   ]
  },
  {
   "cell_type": "code",
   "execution_count": 6,
   "metadata": {},
   "outputs": [],
   "source": [
    "story1 = story1.replace(\",\", \"\").replace(\"\\n\", \"\").replace('.', '').replace('\"', '').replace(\"!\",\"\").replace(\"?\",\"\").casefold()\n",
    "story2 = story2.replace(\",\", \"\").replace(\"\\n\", \"\").replace('.', '').replace('\"', '').replace(\"!\",\"\").replace(\"?\",\"\").casefold()"
   ]
  },
  {
   "cell_type": "code",
   "execution_count": 7,
   "metadata": {},
   "outputs": [
    {
     "name": "stdout",
     "output_type": "stream",
     "text": [
      "First Story words : ['in', 'a', 'far', 'away', 'kingdom', 'there', 'was', 'a', 'river', 'this', 'river', 'was', 'home', 'to', 'many', 'golden', 'swans', 'the', 'swans', 'spent', 'most', 'of', 'their', 'time', 'on', 'the', 'banks', 'of', 'the', 'river', 'every', 'six', 'months', 'the', 'swans', 'would', 'leave', 'a', 'golden', 'feather', 'as', 'a', 'fee', 'for', 'using', 'the', 'lake', 'the', 'soldiers', 'of', 'the', 'kingdom', 'would', 'collect', 'the', 'feathers', 'and', 'deposit', 'them', 'in', 'the', 'royal', 'treasury', 'one', 'day', 'a', 'homeless', 'bird', 'saw', 'the', 'river', 'the', 'water', 'in', 'this', 'river', 'seems', 'so', 'cool', 'and', 'soothing', 'i', 'will', 'make', 'my', 'home', 'here', 'thought', 'the', 'bird', 'as', 'soon', 'as', 'the', 'bird', 'settled', 'down', 'near', 'the', 'river', 'the', 'golden', 'swans', 'noticed', 'her', 'they', 'came', 'shouting', 'this', 'river', 'belongs', 'to', 'us', 'we', 'pay', 'a', 'golden', 'feather', 'to', 'the', 'king', 'to', 'use', 'this', 'river', 'you', 'can', 'not', 'live', 'here', 'i', 'am', 'homeless', 'brothers', 'i', 'too', 'will', 'pay', 'the', 'rent', 'please', 'give', 'me', 'shelter', 'the', 'bird', 'pleaded', 'how', 'will', 'you', 'pay', 'the', 'rent', 'you', 'do', 'not', 'have', 'golden', 'feathers', 'said', 'the', 'swans', 'laughing', 'they', 'further', 'added', 'stop', 'dreaming', 'and', 'leave', 'once', 'the', 'humble', 'bird', 'pleaded', 'many', 'times', 'but', 'the', 'arrogant', 'swans', 'drove', 'the', 'bird', 'away', 'i', 'will', 'teach', 'them', 'a', 'lesson', 'decided', 'the', 'humiliated', 'bird', 'she', 'went', 'to', 'the', 'king', 'and', 'said', 'o', 'king', 'the', 'swans', 'in', 'your', 'river', 'are', 'impolite', 'and', 'unkind', 'i', 'begged', 'for', 'shelter', 'but', 'they', 'said', 'that', 'they', 'had', 'purchased', 'the', 'river', 'with', 'golden', 'feathers', 'the', 'king', 'was', 'angry', 'with', 'the', 'arrogant', 'swans', 'for', 'having', 'insulted', 'the', 'homeless', 'bird', 'he', 'ordered', 'his', 'soldiers', 'to', 'bring', 'the', 'arrogant', 'swans', 'to', 'his', 'court', 'in', 'no', 'time', 'all', 'the', 'golden', 'swans', 'were', 'brought', 'to', 'the', 'king’s', 'court', 'do', 'you', 'think', 'the', 'royal', 'treasury', 'depends', 'upon', 'your', 'golden', 'feathers', 'you', 'can', 'not', 'decide', 'who', 'lives', 'by', 'the', 'river', 'leave', 'the', 'river', 'at', 'once', 'or', 'you', 'all', 'will', 'be', 'beheaded', 'shouted', 'the', 'king', 'the', 'swans', 'shivered', 'with', 'fear', 'on', 'hearing', 'the', 'king', 'they', 'flew', 'away', 'never', 'to', 'return', 'the', 'bird', 'built', 'her', 'home', 'near', 'the', 'river', 'and', 'lived', 'there', 'happily', 'forever', 'the', 'bird', 'gave', 'shelter', 'to', 'all', 'other', 'birds', 'in', 'the', 'river', '']\n",
      "Second Story words : ['long', 'time', 'ago', 'there', 'lived', 'a', 'king', 'he', 'was', 'lazy', 'and', 'liked', 'all', 'the', 'comforts', 'of', 'life', 'he', 'never', 'carried', 'out', 'his', 'duties', 'as', 'a', 'king', '“our', 'king', 'does', 'not', 'take', 'care', 'of', 'our', 'needs', 'he', 'also', 'ignores', 'the', 'affairs', 'of', 'his', 'kingdom', 'the', 'people', 'complained', 'one', 'day', 'the', 'king', 'went', 'into', 'the', 'forest', 'to', 'hunt', 'after', 'having', 'wandered', 'for', 'quite', 'sometime', 'he', 'became', 'thirsty', 'to', 'his', 'relief', 'he', 'spotted', 'a', 'lake', 'as', 'he', 'was', 'drinking', 'water', 'he', 'suddenly', 'saw', 'a', 'golden', 'swan', 'come', 'out', 'of', 'the', 'lake', 'and', 'perch', 'on', 'a', 'stone', '“oh', 'a', 'golden', 'swan', 'i', 'must', 'capture', 'it', 'thought', 'the', 'king', 'but', 'as', 'soon', 'as', 'he', 'held', 'his', 'bow', 'up', 'the', 'swan', 'disappeared', 'and', 'the', 'king', 'heard', 'a', 'voice', '“i', 'am', 'the', 'golden', 'swan', 'if', 'you', 'want', 'to', 'capture', 'me', 'you', 'must', 'come', 'to', 'heaven', 'surprised', 'the', 'king', 'said', '“please', 'show', 'me', 'the', 'way', 'to', 'heaven', '“do', 'good', 'deeds', 'serve', 'your', 'people', 'and', 'the', 'messenger', 'from', 'heaven', 'would', 'come', 'to', 'fetch', 'you', 'to', 'heaven', 'replied', 'the', 'voice', 'the', 'selfish', 'king', 'eager', 'to', 'capture', 'the', 'swan', 'tried', 'doing', 'some', 'good', 'deeds', 'in', 'his', 'kingdom', '“now', 'i', 'suppose', 'a', 'messenger', 'will', 'come', 'to', 'take', 'me', 'to', 'heaven', 'he', 'thought', 'but', 'no', 'messenger', 'came', 'the', 'king', 'then', 'disguised', 'himself', 'and', 'went', 'out', 'into', 'the', 'street', 'there', 'he', 'tried', 'helping', 'an', 'old', 'man', 'but', 'the', 'old', 'man', 'became', 'angry', 'and', 'said', '“you', 'need', 'not', 'try', 'to', 'help', 'i', 'am', 'in', 'this', 'miserable', 'state', 'because', 'of', 'out', 'selfish', 'king', 'he', 'has', 'done', 'nothing', 'for', 'his', 'people', 'suddenly', 'the', 'king', 'heard', 'the', 'golden', 'swan’s', 'voice', '“do', 'good', 'deeds', 'and', 'you', 'will', 'come', 'to', 'heaven', 'it', 'dawned', 'on', 'the', 'king', 'that', 'by', 'doing', 'selfish', 'acts', 'he', 'will', 'not', 'go', 'to', 'heaven', 'he', 'realized', 'that', 'his', 'people', 'needed', 'him', 'and', 'carrying', 'out', 'his', 'duties', 'was', 'the', 'only', 'way', 'to', 'heaven', 'after', 'that', 'day', 'he', 'became', 'a', 'responsible', 'king', '']\n"
     ]
    }
   ],
   "source": [
    "story1_words = story1.split(\" \")\n",
    "print(\"First Story words :\",story1_words)\n",
    "story2_words = story2.split(\" \")\n",
    "print(\"Second Story words :\",story2_words)"
   ]
  },
  {
   "cell_type": "code",
   "execution_count": 8,
   "metadata": {},
   "outputs": [
    {
     "name": "stdout",
     "output_type": "stream",
     "text": [
      "First Story vocabulary : {'', 'your', 'every', 'give', 'me', 'down', 'once', 'depends', 'would', 'impolite', 'all', 'return', 'one', 'king’s', 'most', 'seems', 'them', 'do', 'to', 'treasury', 'ordered', 'built', 'hearing', 'be', 'her', 'decided', 'fee', 'added', 'but', 'forever', 'court', 'water', 'banks', 'further', 'arrogant', 'insulted', 'i', 'thought', 'lived', 'saw', 'think', 'drove', 'shelter', 'feathers', 'away', 'here', 'please', 'soothing', 'far', 'collect', 'live', 'time', 'near', 'having', 'six', 'never', 'as', 'months', 'teach', 'using', 'beheaded', 'who', 'fear', 'gave', 'deposit', 'brothers', 'homeless', 'his', 'are', 'in', 'said', 'have', 'humiliated', 'we', 'o', 'flew', 'pleaded', 'of', 'went', 'my', 'how', 'on', 'kingdom', 'and', 'rent', 'brought', 'lives', 'leave', 'upon', 'was', 'lesson', 'birds', 'pay', 'spent', 'no', 'had', 'cool', 'make', 'with', 'am', 'for', 'stop', 'or', 'shivered', 'can', 'came', 'bird', 'their', 'bring', 'by', 'day', 'golden', 'laughing', 'at', 'the', 'shouting', 'too', 'begged', 'swans', 'feather', 'settled', 'they', 'many', 'soon', 'shouted', 'she', 'royal', 'decide', 'other', 'happily', 'that', 'he', 'a', 'times', 'dreaming', 'lake', 'us', 'soldiers', 'angry', 'humble', 'you', 'unkind', 'river', 'king', 'will', 'this', 'were', 'purchased', 'not', 'so', 'noticed', 'home', 'there', 'use', 'belongs'}\n",
      "Second Story vocabulary {'', 'your', 'spotted', 'disguised', 'surprised', 'then', 'stone', 'me', 'liked', 'held', 'would', 'all', 'duties', 'one', 'to', 'serve', '“oh', 'our', 'long', 'because', 'up', 'man', 'complained', 'but', 'water', 'wandered', 'disappeared', 'voice', 'i', 'thought', 'lived', 'ago', 'hunt', 'realized', 'saw', 'into', 'relief', 'from', 'also', 'carried', 'time', 'became', 'having', 'does', 'only', '“do', 'never', 'done', 'as', 'forest', 'good', 'comforts', 'out', 'thirsty', 'acts', 'eager', 'old', 'people', 'dawned', 'messenger', 'his', 'in', 'suppose', 'ignores', 'said', 'heard', 'drinking', 'selfish', 'an', 'swan’s', 'after', 'way', '“now', 'take', 'sometime', 'care', 'perch', 'needed', 'of', 'went', 'deeds', 'on', 'and', 'affairs', 'kingdom', 'fetch', 'needs', 'was', 'need', 'him', 'responsible', 'no', 'must', '“our', 'am', 'for', 'doing', 'try', 'has', '“you', 'miserable', 'if', 'carrying', 'came', 'some', 'heaven', 'bow', 'by', 'day', 'want', 'golden', 'the', 'go', 'soon', 'life', 'swan', 'come', 'lazy', 'capture', 'street', 'helping', 'it', 'quite', 'that', 'nothing', 'he', 'help', 'a', 'lake', 'angry', 'show', 'you', 'state', '“i', 'king', 'will', 'replied', 'himself', 'this', 'suddenly', 'not', '“please', 'there', 'tried'}\n"
     ]
    }
   ],
   "source": [
    "story1_vocab = set(story1_words)\n",
    "print(\"First Story vocabulary :\",story1_vocab)\n",
    "story2_vocab = set(story2_words)\n",
    "print(\"Second Story vocabulary\",story2_vocab)"
   ]
  },
  {
   "cell_type": "code",
   "execution_count": 10,
   "metadata": {},
   "outputs": [
    {
     "name": "stdout",
     "output_type": "stream",
     "text": [
      "Common Vocabulary : {'', 'saw', 'your', 'day', 'golden', 'the', 'me', 'would', 'all', 'of', 'went', 'one', 'soon', 'time', 'on', 'to', 'and', 'having', 'kingdom', 'that', 'never', 'was', 'he', 'as', 'a', 'lake', 'no', 'angry', 'you', 'king', 'am', 'for', 'will', 'this', 'but', 'water', 'his', 'in', 'said', 'not', 'i', 'thought', 'lived', 'came', 'there', 'by'}\n",
      "The length of common vocabulary = 46\n"
     ]
    }
   ],
   "source": [
    "common_vocab = story1_vocab & story2_vocab\n",
    "print(\"Common Vocabulary :\", common_vocab)\n",
    "print(\"The length of common vocabulary =\", len(common_vocab))"
   ]
  },
  {
   "cell_type": "code",
   "execution_count": null,
   "metadata": {},
   "outputs": [],
   "source": []
  }
 ],
 "metadata": {
  "kernelspec": {
   "display_name": "Python 3",
   "language": "python",
   "name": "python3"
  },
  "language_info": {
   "codemirror_mode": {
    "name": "ipython",
    "version": 3
   },
   "file_extension": ".py",
   "mimetype": "text/x-python",
   "name": "python",
   "nbconvert_exporter": "python",
   "pygments_lexer": "ipython3",
   "version": "3.6.7"
  }
 },
 "nbformat": 4,
 "nbformat_minor": 2
}
