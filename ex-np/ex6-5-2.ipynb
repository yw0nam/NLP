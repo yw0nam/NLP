{
 "cells": [
  {
   "cell_type": "code",
   "execution_count": 1,
   "metadata": {},
   "outputs": [],
   "source": [
    "import nltk"
   ]
  },
  {
   "cell_type": "code",
   "execution_count": 2,
   "metadata": {},
   "outputs": [],
   "source": [
    "text = \"Ravi is the CEO of a Company. He is very powerful public speaker also.\"\n",
    "\n",
    "grammar = '\\n'.join([\n",
    "    'NP: {<DT>*<NNP>}',\n",
    "    'NP: {<JJ>*<NN>}',\n",
    "    'NP: {<NNP>+}',\n",
    "])"
   ]
  },
  {
   "cell_type": "code",
   "execution_count": 3,
   "metadata": {},
   "outputs": [
    {
     "name": "stdout",
     "output_type": "stream",
     "text": [
      "(S\n",
      "  (NP Ravi/NNP)\n",
      "  is/VBZ\n",
      "  (NP the/DT CEO/NNP)\n",
      "  of/IN\n",
      "  (NP a/DT Company/NNP)\n",
      "  ./.)\n",
      "(S\n",
      "  He/PRP\n",
      "  is/VBZ\n",
      "  very/RB\n",
      "  (NP powerful/JJ public/JJ speaker/NN)\n",
      "  also/RB\n",
      "  ./.)\n"
     ]
    }
   ],
   "source": [
    "sentences = nltk.sent_tokenize(text)\n",
    "\n",
    "for sentence in sentences:\n",
    "    words = nltk.word_tokenize(sentence)\n",
    "    tags = nltk.pos_tag(words)\n",
    "    chunkparser = nltk.RegexpParser(grammar)\n",
    "    result = chunkparser.parse(tags)\n",
    "    print(result)"
   ]
  },
  {
   "cell_type": "code",
   "execution_count": null,
   "metadata": {},
   "outputs": [],
   "source": []
  }
 ],
 "metadata": {
  "kernelspec": {
   "display_name": "Python 3",
   "language": "python",
   "name": "python3"
  },
  "language_info": {
   "codemirror_mode": {
    "name": "ipython",
    "version": 3
   },
   "file_extension": ".py",
   "mimetype": "text/x-python",
   "name": "python",
   "nbconvert_exporter": "python",
   "pygments_lexer": "ipython3",
   "version": "3.6.7"
  }
 },
 "nbformat": 4,
 "nbformat_minor": 2
}
