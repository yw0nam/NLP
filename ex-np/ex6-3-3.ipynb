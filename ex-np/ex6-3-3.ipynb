{
 "cells": [
  {
   "cell_type": "code",
   "execution_count": 1,
   "metadata": {},
   "outputs": [],
   "source": [
    "import re"
   ]
  },
  {
   "cell_type": "code",
   "execution_count": 2,
   "metadata": {
    "scrolled": true
   },
   "outputs": [
    {
     "name": "stdout",
     "output_type": "stream",
     "text": [
      "Searching for \"Tuffy\" in \"Tuffy eats pie, Loki eats peas!\" ->\n",
      "Found!\n",
      "Searching for \"Pie\" in \"Tuffy eats pie, Loki eats peas!\" ->\n",
      "Not Found!\n",
      "Searching for \"Loki\" in \"Tuffy eats pie, Loki eats peas!\" ->\n",
      "Found!\n"
     ]
    }
   ],
   "source": [
    "#search for literal strings in sentence\n",
    "patterns = [ 'Tuffy', 'Pie', 'Loki' ]\n",
    "text = 'Tuffy eats pie, Loki eats peas!'\n",
    "for pattern in patterns:\n",
    "    print('Searching for \"%s\" in \"%s\" ->' % (pattern, text),)\n",
    "    if re.search(pattern,  text):\n",
    "        print('Found!')\n",
    "    else:\n",
    "        print('Not Found!')"
   ]
  },
  {
   "cell_type": "code",
   "execution_count": 3,
   "metadata": {},
   "outputs": [
    {
     "name": "stdout",
     "output_type": "stream",
     "text": [
      "Found \"festival\" at 12:20\n",
      "Found \"festival\" at 42:50\n"
     ]
    }
   ],
   "source": [
    "#search a substring and find it's location too\n",
    "text = 'Diwali is a festival of lights, Holi is a festival of colors!'\n",
    "pattern = 'festival'\n",
    "for match in re.finditer(pattern, text):\n",
    "    s = match.start()\n",
    "    e = match.end()\n",
    "    print('Found \"%s\" at %d:%d' % (text[s:e], s, e))"
   ]
  },
  {
   "cell_type": "code",
   "execution_count": null,
   "metadata": {},
   "outputs": [],
   "source": []
  }
 ],
 "metadata": {
  "kernelspec": {
   "display_name": "Python 3",
   "language": "python",
   "name": "python3"
  },
  "language_info": {
   "codemirror_mode": {
    "name": "ipython",
    "version": 3
   },
   "file_extension": ".py",
   "mimetype": "text/x-python",
   "name": "python",
   "nbconvert_exporter": "python",
   "pygments_lexer": "ipython3",
   "version": "3.6.7"
  }
 },
 "nbformat": 4,
 "nbformat_minor": 2
}
