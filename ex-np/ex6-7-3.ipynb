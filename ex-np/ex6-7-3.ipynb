{
 "cells": [
  {
   "cell_type": "code",
   "execution_count": 1,
   "metadata": {},
   "outputs": [],
   "source": [
    "from nltk.tokenize import RegexpTokenizer\n",
    "from nltk.corpus import stopwords\n",
    "from gensim import corpora, models\n",
    "import nltk\n",
    "import feedparser"
   ]
  },
  {
   "cell_type": "code",
   "execution_count": 2,
   "metadata": {},
   "outputs": [],
   "source": [
    "documents = []\n",
    "cleaned = []"
   ]
  },
  {
   "cell_type": "code",
   "execution_count": 3,
   "metadata": {},
   "outputs": [],
   "source": [
    "def getDocuments():\n",
    "    url = 'https://sports.yahoo.com/mlb/rss.xml'\n",
    "    feed = feedparser.parse(url)\n",
    "\n",
    "    for entry in feed['entries'][:5]:\n",
    "        text = entry['summary']\n",
    "        if 'ex' in text:\n",
    "            continue\n",
    "        documents.append(text)\n",
    "        print(\"-- {}\".format(text))\n",
    "    print(\"INFO: Fetching documents from {} completed\".format(url))"
   ]
  },
  {
   "cell_type": "code",
   "execution_count": 4,
   "metadata": {},
   "outputs": [],
   "source": [
    "def cleanDocuments():\n",
    "    tokenizer = RegexpTokenizer(r'[a-zA-Z]+')\n",
    "    en_stop = set(stopwords.words('english'))\n",
    "\n",
    "    for doc in documents:\n",
    "        lowercase_doc = doc.lower()\n",
    "        words = tokenizer.tokenize(lowercase_doc)\n",
    "        non_stopped_words = [i for i in words if not i in en_stop]\n",
    "        cleaned.append(non_stopped_words)\n",
    "    print(\"INFO: Clearning {} documents completed\".format(len(documents)))"
   ]
  },
  {
   "cell_type": "code",
   "execution_count": 5,
   "metadata": {},
   "outputs": [],
   "source": [
    "def doLDA():\n",
    "    dictionary = corpora.Dictionary(cleaned)\n",
    "    corpus = [dictionary.doc2bow(cleandoc) for cleandoc in cleaned]\n",
    "    ldamodel = models.ldamodel.LdaModel(corpus, num_topics=2, id2word = dictionary)\n",
    "    print(ldamodel.print_topics(num_topics=2, num_words=4))"
   ]
  },
  {
   "cell_type": "code",
   "execution_count": 6,
   "metadata": {},
   "outputs": [],
   "source": [
    "def run():\n",
    "    getDocuments()\n",
    "    cleanDocuments()\n",
    "    doLDA()"
   ]
  },
  {
   "cell_type": "code",
   "execution_count": 7,
   "metadata": {},
   "outputs": [
    {
     "name": "stdout",
     "output_type": "stream",
     "text": [
      "-- In his debut with Houston, Aaron Sanchez threw six hitless innings and his bullpen did the rest to cap off the second combined no-hitter of the season.\n",
      "-- ''When I'm the aggressor and I'm throwing all my pitches and locating, I feel like I'm one of the best pitchers in this league,'' Fiers said.  Fiers took a shutout into the sixth inning to keep his unbeaten streak intact, and the Oakland Athletics beat the St. Louis Cardinals\n",
      "-- Condensed Game: Ronald Acuna Jr. collected his first career walk-off hit in the 10th inning to lead the Braves to a 5-4 win over the Reds\n",
      "-- Steven Duggar kept San Francisco in the game with a run-saving catch and Buster Posey put the Giants ahead with a rare pinch-hit.  Posey came through with a two-run double in the eighth inning to rally San Francisco past the Colorado Rockies 6-5 on Saturday night.  ''What a huge hit,''\n",
      "-- Condensed Game: Buster Posey hit a go-ahead two-run double while Will Smith earned the save in the Giants' 6-5 win over the Rockies\n",
      "INFO: Fetching documents from https://sports.yahoo.com/mlb/rss.xml completed\n",
      "INFO: Clearning 5 documents completed\n",
      "[(0, '0.021*\"fiers\" + 0.021*\"inning\" + 0.018*\"win\" + 0.017*\"hit\"'), (1, '0.035*\"hit\" + 0.031*\"posey\" + 0.031*\"run\" + 0.025*\"game\"')]\n"
     ]
    }
   ],
   "source": [
    "run()"
   ]
  },
  {
   "cell_type": "code",
   "execution_count": null,
   "metadata": {},
   "outputs": [],
   "source": []
  }
 ],
 "metadata": {
  "kernelspec": {
   "display_name": "Python 3",
   "language": "python",
   "name": "python3"
  },
  "language_info": {
   "codemirror_mode": {
    "name": "ipython",
    "version": 3
   },
   "file_extension": ".py",
   "mimetype": "text/x-python",
   "name": "python",
   "nbconvert_exporter": "python",
   "pygments_lexer": "ipython3",
   "version": "3.6.7"
  }
 },
 "nbformat": 4,
 "nbformat_minor": 2
}
