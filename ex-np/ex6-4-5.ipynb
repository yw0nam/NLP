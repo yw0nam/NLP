{
 "cells": [
  {
   "cell_type": "code",
   "execution_count": 1,
   "metadata": {},
   "outputs": [],
   "source": [
    "import nltk\n",
    "import string\n",
    "from nltk.parse.generate import generate"
   ]
  },
  {
   "cell_type": "code",
   "execution_count": 2,
   "metadata": {},
   "outputs": [],
   "source": [
    "productions = [\n",
    "    \"ROOT -> WORD\",\n",
    "    \"WORD -> ' '\",\n",
    "    \"WORD -> NUMBER LETTER\",\n",
    "    \"WORD -> LETTER NUMBER\",\n",
    "]"
   ]
  },
  {
   "cell_type": "code",
   "execution_count": 7,
   "metadata": {},
   "outputs": [],
   "source": [
    "digits = list(string.digits)\n",
    "for digit in digits[:4]:\n",
    "    productions.append(\"NUMBER -> '{w}'\".format(w=digit))\n",
    "\n",
    "letters = \"' | '\".join(list(string.ascii_lowercase)[:4])\n",
    "productions.append(\"LETTER -> '{w}'\".format(w=letters))"
   ]
  },
  {
   "cell_type": "code",
   "execution_count": 4,
   "metadata": {},
   "outputs": [
    {
     "name": "stdout",
     "output_type": "stream",
     "text": [
      "Grammar with 12 productions (start state = ROOT)\n",
      "    ROOT -> WORD\n",
      "    WORD -> ' '\n",
      "    WORD -> NUMBER LETTER\n",
      "    WORD -> LETTER NUMBER\n",
      "    NUMBER -> '0'\n",
      "    NUMBER -> '1'\n",
      "    NUMBER -> '2'\n",
      "    NUMBER -> '3'\n",
      "    LETTER -> 'a'\n",
      "    LETTER -> 'b'\n",
      "    LETTER -> 'c'\n",
      "    LETTER -> 'd'\n"
     ]
    }
   ],
   "source": [
    "grammarString = \"\\n\".join(productions)\n",
    "grammar = nltk.CFG.fromstring(grammarString)\n",
    "\n",
    "print(grammar)"
   ]
  },
  {
   "cell_type": "code",
   "execution_count": 8,
   "metadata": {},
   "outputs": [
    {
     "name": "stdout",
     "output_type": "stream",
     "text": [
      "Generated Word: , Size : 0\n",
      "Generated Word: 0a, Size : 2\n",
      "Generated Word: 0b, Size : 2\n",
      "Generated Word: 0c, Size : 2\n",
      "Generated Word: 0d, Size : 2\n",
      "Generated Word: 1a, Size : 2\n",
      "Generated Word: 1b, Size : 2\n",
      "Generated Word: 1c, Size : 2\n",
      "Generated Word: 1d, Size : 2\n",
      "Generated Word: 2a, Size : 2\n",
      "Generated Word: 2b, Size : 2\n",
      "Generated Word: 2c, Size : 2\n",
      "Generated Word: 2d, Size : 2\n",
      "Generated Word: 3a, Size : 2\n",
      "Generated Word: 3b, Size : 2\n",
      "Generated Word: 3c, Size : 2\n",
      "Generated Word: 3d, Size : 2\n",
      "Generated Word: a0, Size : 2\n",
      "Generated Word: a1, Size : 2\n",
      "Generated Word: a2, Size : 2\n"
     ]
    }
   ],
   "source": [
    "for sentence in generate(grammar, n=5, depth=5):\n",
    "    palindrome = \"\".join(sentence).replace(\" \", \"\")\n",
    "    print(\"Generated Word: {}, Size : {}\".format(palindrome, len(palindrome)))"
   ]
  },
  {
   "cell_type": "code",
   "execution_count": null,
   "metadata": {},
   "outputs": [],
   "source": []
  }
 ],
 "metadata": {
  "kernelspec": {
   "display_name": "Python 3",
   "language": "python",
   "name": "python3"
  },
  "language_info": {
   "codemirror_mode": {
    "name": "ipython",
    "version": 3
   },
   "file_extension": ".py",
   "mimetype": "text/x-python",
   "name": "python",
   "nbconvert_exporter": "python",
   "pygments_lexer": "ipython3",
   "version": "3.6.7"
  }
 },
 "nbformat": 4,
 "nbformat_minor": 2
}
