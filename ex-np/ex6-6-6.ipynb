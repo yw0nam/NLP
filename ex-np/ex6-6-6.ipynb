{
 "cells": [
  {
   "cell_type": "code",
   "execution_count": 1,
   "metadata": {},
   "outputs": [],
   "source": [
    "import nltk"
   ]
  },
  {
   "cell_type": "code",
   "execution_count": 2,
   "metadata": {},
   "outputs": [],
   "source": [
    "sentences = [\n",
    "    \"What is your address when you're in Bangalore?\",\n",
    "    \"the president's address on the state of the economy.\",\n",
    "    \"He addressed his remarks to the lawyers in the audience.\",\n",
    "    \"In order to address an assembly, we should be ready\",\n",
    "    \"He laughed inwardly at the scene.\",\n",
    "    \"After all the advance publicity, the prizefight turned out to be a laugh.\",\n",
    "    \"We can learn to laugh a little at even our most serious foibles.\"\n",
    "]"
   ]
  },
  {
   "cell_type": "code",
   "execution_count": 3,
   "metadata": {},
   "outputs": [],
   "source": [
    "def getSentenceWords():\n",
    "    sentwords = []\n",
    "    for sentence in sentences:\n",
    "        words = nltk.pos_tag(nltk.word_tokenize(sentence))\n",
    "        sentwords.append(words)\n",
    "    return sentwords"
   ]
  },
  {
   "cell_type": "code",
   "execution_count": 4,
   "metadata": {},
   "outputs": [],
   "source": [
    "def noContextTagger():\n",
    "    tagger = nltk.UnigramTagger(getSentenceWords())\n",
    "    print(tagger.tag('the little remarks towards assembly are laughable'.split()))"
   ]
  },
  {
   "cell_type": "code",
   "execution_count": 5,
   "metadata": {},
   "outputs": [],
   "source": [
    "def wordFeatures(words, wordPosInSentence):\n",
    "    # extract all the ing forms etc\n",
    "    endFeatures = {\n",
    "            'last(1)': words[wordPosInSentence][-1],\n",
    "            'last(2)': words[wordPosInSentence][-2:],\n",
    "            'last(3)': words[wordPosInSentence][-3:],\n",
    "    }\n",
    "    # use previous word to determine if the current word is verb or noun\n",
    "    if wordPosInSentence > 1:\n",
    "        endFeatures['prev'] = words[wordPosInSentence - 1]\n",
    "    else:\n",
    "        endFeatures['prev'] = '|NONE|'\n",
    "    return endFeatures"
   ]
  },
  {
   "cell_type": "code",
   "execution_count": 6,
   "metadata": {},
   "outputs": [],
   "source": [
    "def withContextTagger():\n",
    "    allsentences = getSentenceWords()\n",
    "    featureddata = []\n",
    "    for sentence in allsentences:\n",
    "        untaggedSentence = nltk.tag.untag(sentence)\n",
    "        featuredsentence = [(wordFeatures(untaggedSentence, index), tag) \n",
    "                            for index, (word, tag) in enumerate(sentence)]\n",
    "        featureddata.extend(featuredsentence)\n",
    "    breakup = int(len(featureddata) * 0.5)\n",
    "    traindata = featureddata[breakup:]\n",
    "    testdata = featureddata[:breakup]\n",
    "    classifier = nltk.NaiveBayesClassifier.train(traindata)\n",
    "    print(\"Accuracy of the classifier : {}\".format(nltk.classify.accuracy(classifier, testdata)))"
   ]
  },
  {
   "cell_type": "code",
   "execution_count": 7,
   "metadata": {},
   "outputs": [
    {
     "name": "stdout",
     "output_type": "stream",
     "text": [
      "[('the', 'DT'), ('little', 'JJ'), ('remarks', 'NNS'), ('towards', None), ('assembly', 'NN'), ('are', None), ('laughable', None)]\n",
      "Accuracy of the classifier : 0.46153846153846156\n"
     ]
    }
   ],
   "source": [
    "noContextTagger()\n",
    "withContextTagger()"
   ]
  },
  {
   "cell_type": "code",
   "execution_count": null,
   "metadata": {},
   "outputs": [],
   "source": []
  }
 ],
 "metadata": {
  "kernelspec": {
   "display_name": "Python 3",
   "language": "python",
   "name": "python3"
  },
  "language_info": {
   "codemirror_mode": {
    "name": "ipython",
    "version": 3
   },
   "file_extension": ".py",
   "mimetype": "text/x-python",
   "name": "python",
   "nbconvert_exporter": "python",
   "pygments_lexer": "ipython3",
   "version": "3.6.7"
  }
 },
 "nbformat": 4,
 "nbformat_minor": 2
}
